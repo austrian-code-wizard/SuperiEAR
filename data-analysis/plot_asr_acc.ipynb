{
 "cells": [
  {
   "cell_type": "code",
   "execution_count": 4,
   "metadata": {},
   "outputs": [],
   "source": [
    "import json\n",
    "from matplotlib import pyplot as plt"
   ]
  },
  {
   "cell_type": "code",
   "execution_count": 5,
   "metadata": {},
   "outputs": [
    {
     "data": {
      "text/plain": [
       "<Figure size 640x480 with 0 Axes>"
      ]
     },
     "metadata": {},
     "output_type": "display_data"
    }
   ],
   "source": [
    "plt.title(\"Diffusion Test WER\")\n",
    "plt.xlabel(\"Epoch\")\n",
    "plt.ylabel(\"WER\")\n",
    "values = []\n",
    "e = []\n",
    "steps = []\n",
    "for step in range(0, 81, 10):\n",
    "  data = json.load(open(f\"../results/test_results_{step}.json\"))\n",
    "  values.append(data[\"summary\"][\"diffusion_wer\"][\"avg\"])\n",
    "  e.append(data[\"summary\"][\"diffusion_wer\"][\"std\"])\n",
    "  steps.append(step)\n",
    "plt.errorbar(steps, values, e, linestyle='None', marker='^')\n",
    "\n",
    "plt.savefig(\"./charts-out/Diffusion/diffusion_test_wer.png\")\n",
    "plt.clf()"
   ]
  },
  {
   "cell_type": "code",
   "execution_count": 8,
   "metadata": {},
   "outputs": [
    {
     "data": {
      "text/plain": [
       "<Figure size 640x480 with 0 Axes>"
      ]
     },
     "metadata": {},
     "output_type": "display_data"
    }
   ],
   "source": [
    "plt.title(\"Denoising Test WER\")\n",
    "plt.xlabel(\"Denoising Step\")\n",
    "plt.ylabel(\"WER\")\n",
    "values = []\n",
    "e = []\n",
    "steps = []\n",
    "for step in range(6):\n",
    "  data = json.load(open(f\"../results/test_results_40_iters_{step}.json\"))\n",
    "  values.append(data[\"summary\"][\"diffusion_wer\"][\"avg\"])\n",
    "  e.append(data[\"summary\"][\"diffusion_wer\"][\"std\"])\n",
    "  steps.append(step)\n",
    "plt.errorbar(steps, values, e, linestyle='None', marker='^')\n",
    "\n",
    "plt.savefig(\"./charts-out/Diffusion/diffusion_denoising_step_test_wer.png\")\n",
    "plt.clf()"
   ]
  },
  {
   "cell_type": "code",
   "execution_count": 7,
   "metadata": {},
   "outputs": [
    {
     "data": {
      "text/plain": [
       "<Figure size 640x480 with 0 Axes>"
      ]
     },
     "metadata": {},
     "output_type": "display_data"
    }
   ],
   "source": [
    "keys = [\"noisy_wer\", \"spectral_wer\", \"diffusion_wer\", \"convae_wer\"]\n",
    "data = json.load(open(f\"../results/test_results_40_diff_80_convae.json\"))\n",
    "values = [data[\"summary\"][key][\"avg\"] for key in keys]\n",
    "e = [data[\"summary\"][key][\"std\"] for key in keys]\n",
    "steps = range(len(keys))\n",
    "labels = [key.replace(\"_wer\", \"\").capitalize() for key in keys]\n",
    "\n",
    "fig, ax = plt.subplots()\n",
    "ax.bar(steps, values, yerr=e, align='center', alpha=0.5, ecolor='black', capsize=10)\n",
    "ax.set_ylabel('WER')\n",
    "ax.set_xticks(steps)\n",
    "ax.set_xticklabels(labels)\n",
    "ax.set_title('WER by Model')\n",
    "ax.yaxis.grid(True)\n",
    "\n",
    "# Save the figure and show\n",
    "plt.tight_layout()\n",
    "plt.savefig(\"./charts-out/Diffusion/wer_by_model.png\")\n",
    "plt.clf()"
   ]
  },
  {
   "cell_type": "code",
   "execution_count": null,
   "metadata": {},
   "outputs": [],
   "source": []
  }
 ],
 "metadata": {
  "kernelspec": {
   "display_name": "Python 3.8.13 ('superiear')",
   "language": "python",
   "name": "python3"
  },
  "language_info": {
   "codemirror_mode": {
    "name": "ipython",
    "version": 3
   },
   "file_extension": ".py",
   "mimetype": "text/x-python",
   "name": "python",
   "nbconvert_exporter": "python",
   "pygments_lexer": "ipython3",
   "version": "3.8.13"
  },
  "orig_nbformat": 4,
  "vscode": {
   "interpreter": {
    "hash": "fbdc0e55e065038ad610fe309f8558326fe8ac39ed1bd7cc3491b17bc22b3e34"
   }
  }
 },
 "nbformat": 4,
 "nbformat_minor": 2
}
